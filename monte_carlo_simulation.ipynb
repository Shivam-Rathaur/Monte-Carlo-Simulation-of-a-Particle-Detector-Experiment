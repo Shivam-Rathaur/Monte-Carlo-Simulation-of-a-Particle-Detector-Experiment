{
 "cells": [
  {
   "cell_type": "code",
   "execution_count": 69,
   "id": "504f488b",
   "metadata": {},
   "outputs": [],
   "source": [
    "import numpy as np\n",
    "import scipy as sp \n",
    "import matplotlib.pyplot as plt\n",
    "import sympy as smp"
   ]
  },
  {
   "cell_type": "markdown",
   "id": "d26a42f8",
   "metadata": {},
   "source": [
    "| Feature     | **SymPy** (Math)             | **SimPy** (Simulation)  |\n",
    "| ----------- | ------------------------------- | --------------------------- |\n",
    "| Purpose     | Symbolic math & algebra         | Discrete-event simulation   |\n",
    "| Domain      | Equations, calculus, algebra    | Queues, events, processes   |\n",
    "| Output      | Exact expressions (e.g., √2, π) | Simulation timelines & logs |\n",
    "| Example Use | Solve ODEs, simplify math       | Model a bank queue system   |"
   ]
  },
  {
   "cell_type": "markdown",
   "id": "62efdbd3",
   "metadata": {},
   "source": [
    "- SymPy → Symbolic Python (for symbolic mathematics) \n",
    "- SimPy → Simulation in Python (for discrete-event simulation)"
   ]
  },
  {
   "cell_type": "markdown",
   "id": "dc5f86d5",
   "metadata": {},
   "source": [
    "## Introduction\n",
    "\n",
    "The purpose of Monte Carlo is to simulate a real life experiment that depends on randomness to some extent.\n",
    "\n",
    "* Counting number of radioactive decays from some radioactive source in a time interval $\\Delta t$. The random variable here number of counts $N$ (positive integer) and follows a **Poisson** probability mass function.\n",
    "\n",
    "$$f(x) = \\frac{e^{-\\lambda} \\lambda^x}{x!}$$\n",
    "\n",
    "* Determining the energy of detected particles in a detector cell in the ATLAS calorimeter in a time interval $\\Delta t$. The random variable here is energy $E$ (positive real number) and the corresponding probability density function is.\n",
    "\n",
    "$$f(x) = F_1e^{-\\sqrt{x/E_1}} + F_2e^{-\\sqrt{x/E_2}}$$\n",
    "\n",
    "* Determining the distance a particle travels through matter before it completely decays. The random variable here is distance $X$ and a really simple probability density function model might be\n",
    "\n",
    "$$f(x) = \\frac{x_0}{x^2} \\hspace{10mm} x \\geq x_0$$\n",
    "\n",
    "* **Estimating a value for $\\pi$**"
   ]
  },
  {
   "cell_type": "markdown",
   "id": "e5669106",
   "metadata": {},
   "source": [
    "---\n",
    "#### For most cases this boils down into two steps:-\n",
    "- Generate Random Variables According to a Distribution\n",
    "- Use These Random Variables to Conduct Some Experiment\n",
    "---"
   ]
  },
  {
   "cell_type": "markdown",
   "id": "716fe95e",
   "metadata": {},
   "source": [
    "# 1: Generate Random Variables According to a Distribution"
   ]
  },
  {
   "cell_type": "markdown",
   "id": "9974df80",
   "metadata": {},
   "source": [
    "## 1.1 Inverting the CDF Analytically"
   ]
  },
  {
   "cell_type": "markdown",
   "id": "cd0ab85c",
   "metadata": {},
   "source": [
    "**Theorem**: If a random variable $X$ has a CDF (Cumulative Distribution Function) of $F(x)$ then the variable $F^{-1}(U)$, where $U$ is a random uniform variable between 0 and 1, also has CDF $F(x)$\n",
    "\n",
    "$$X \\sim F(x) \\implies F^{-1}(U) \\sim F(x)$$"
   ]
  },
  {
   "cell_type": "markdown",
   "id": "d1a81de5",
   "metadata": {},
   "source": [
    "**Example**: The exponential distribution is\n",
    "\n",
    "$$f(x) = \\lambda e^{-\\lambda x} \\implies F(x) = 1-e^{-\\lambda x}$$"
   ]
  },
  {
   "cell_type": "markdown",
   "id": "8b30c103",
   "metadata": {},
   "source": [
    "- Note: PDF (Probability Density Function)"
   ]
  },
  {
   "cell_type": "code",
   "execution_count": 70,
   "id": "d477d39f",
   "metadata": {},
   "outputs": [],
   "source": [
    "x = np.linspace(0,3,100)\n",
    "f = 2*np.exp(-2*x)\n",
    "F = 1-np.exp(-2*x)"
   ]
  },
  {
   "cell_type": "code",
   "execution_count": 71,
   "id": "90c365ab",
   "metadata": {},
   "outputs": [
    {
     "data": {
      "image/png": "[encoded data removed]",
      "text/plain": [
       "<Figure size 800x300 with 1 Axes>"
      ]
     },
     "metadata": {},
     "output_type": "display_data"
    }
   ],
   "source": [
    "## Plot\n",
    "plt.figure(figsize=(8,3))\n",
    "plt.plot(x, f, label='$f(x)$')\n",
    "plt.plot(x,F, label=r'$F(x)$')\n",
    "plt.legend()\n",
    "plt.xlabel('$x$', fontsize=14)\n",
    "plt.legend()\n",
    "plt.show()"
   ]
  },
  {
   "cell_type": "markdown",
   "id": "b4eb5105",
   "metadata": {},
   "source": [
    "Using $F[F^{-1}(x)]=x$ We get\n",
    "\n",
    "$$1-e^{-\\lambda F^{-1}(x)} = x \\implies \\boxed{F^{-1}(x) = -\\frac{\\ln(1-x)}{\\lambda}}$$\n",
    "\n",
    "So if we evaluate a bunch of random uniform variables $U$ and evaluate $F^{-1}(U)$, they should be distributed according to $f(x)$ above"
   ]
  },
  {
   "cell_type": "code",
   "execution_count": 72,
   "id": "42ea6903",
   "metadata": {},
   "outputs": [
    {
     "data": {
      "image/png": "[encoded data removed]",
      "text/plain": [
       "<Figure size 640x480 with 1 Axes>"
      ]
     },
     "metadata": {},
     "output_type": "display_data"
    }
   ],
   "source": [
    "Us = np.random.rand(10000)\n",
    "plt.hist(Us)\n",
    "plt.show()"
   ]
  },
  {
   "cell_type": "code",
   "execution_count": 73,
   "id": "4b50bb85",
   "metadata": {},
   "outputs": [],
   "source": [
    "Us = np.random.rand(10000)\n",
    "F_inv_Us = -np.log(1-Us)/2"
   ]
  },
  {
   "cell_type": "code",
   "execution_count": 74,
   "id": "865f0caa",
   "metadata": {},
   "outputs": [
    {
     "data": {
      "image/png": "[encoded data removed]",
      "text/plain": [
       "<Figure size 800x300 with 1 Axes>"
      ]
     },
     "metadata": {},
     "output_type": "display_data"
    }
   ],
   "source": [
    "# Plot these and check whether they are distributed according to f(x)\n",
    "plt.figure(figsize=(8,3))\n",
    "plt.plot(x, f, label='f(x)') \n",
    "plt.hist(F_inv_Us, histtype='step', color='red', density='norm', bins=100, label='$F^{-1}(u)$')\n",
    "plt.legend()\n",
    "plt.xlabel('x', fontsize=14)\n",
    "plt.legend()\n",
    "plt.show()"
   ]
  },
  {
   "cell_type": "markdown",
   "id": "ceb358ad",
   "metadata": {},
   "source": [
    "## 1.2 Using a Search Sort Algorithm"
   ]
  },
  {
   "cell_type": "markdown",
   "id": "ec3a9793",
   "metadata": {},
   "source": [
    "Sometimes $F(x)$ isn't invertible analystically. BUT\n",
    "\n",
    "* $F(x)$ is always increasing with $x$\n",
    "\n",
    "So it is necessarily invertible (there just might not be a formula for it).\n",
    "\n",
    "$$f(x) = F_1e^{-\\sqrt{x/E_1}} + F_2e^{-\\sqrt{x/E_2}}$$"
   ]
  },
  {
   "cell_type": "code",
   "execution_count": 75,
   "id": "52b3fba1",
   "metadata": {},
   "outputs": [
    {
     "data": {
      "text/latex": [
       "$\\displaystyle F_{1} e^{- \\frac{\\sqrt{x}}{\\sqrt{E_{1}}}} + F_{2} e^{- \\frac{\\sqrt{x}}{\\sqrt{E_{2}}}}$"
      ],
      "text/plain": [
       "F_1*exp(-sqrt(x)/sqrt(E_1)) + F_2*exp(-sqrt(x)/sqrt(E_2))"
      ]
     },
     "execution_count": 75,
     "metadata": {},
     "output_type": "execute_result"
    }
   ],
   "source": [
    "x, y, F1, F2, E1, E2 = smp.symbols('x y F_1 F_2 E_1 E_2', real=True, positive=True)\n",
    "fs = F1*smp.exp(-smp.sqrt(x/E1)) + F2*smp.exp(-smp.sqrt(x/E2))\n",
    "fs"
   ]
  },
  {
   "cell_type": "code",
   "execution_count": 76,
   "id": "e170aa23",
   "metadata": {},
   "outputs": [
    {
     "data": {
      "text/latex": [
       "$\\displaystyle 2 E_{1} F_{1} + 2 E_{2} F_{2} + F_{1} \\left(- 2 \\sqrt{E_{1}} \\sqrt{y} e^{- \\frac{\\sqrt{y}}{\\sqrt{E_{1}}}} - 2 E_{1} e^{- \\frac{\\sqrt{y}}{\\sqrt{E_{1}}}}\\right) + F_{2} \\left(- 2 \\sqrt{E_{2}} \\sqrt{y} e^{- \\frac{\\sqrt{y}}{\\sqrt{E_{2}}}} - 2 E_{2} e^{- \\frac{\\sqrt{y}}{\\sqrt{E_{2}}}}\\right)$"
      ],
      "text/plain": [
       "2*E_1*F_1 + 2*E_2*F_2 + F_1*(-2*sqrt(E_1)*sqrt(y)*exp(-sqrt(y)/sqrt(E_1)) - 2*E_1*exp(-sqrt(y)/sqrt(E_1))) + F_2*(-2*sqrt(E_2)*sqrt(y)*exp(-sqrt(y)/sqrt(E_2)) - 2*E_2*exp(-sqrt(y)/sqrt(E_2)))"
      ]
     },
     "execution_count": 76,
     "metadata": {},
     "output_type": "execute_result"
    }
   ],
   "source": [
    "Fs = smp.integrate(fs, (x,0,y)).doit()\n",
    "Fs"
   ]
  },
  {
   "cell_type": "code",
   "execution_count": 77,
   "id": "20efc716",
   "metadata": {},
   "outputs": [],
   "source": [
    "# Fn - Numerical Function\n",
    "# Fs - Symbolic Function\n",
    "\n",
    "Fn = smp.lambdify((y, E1, E2, F1, F2), Fs)\n",
    "fn = smp.lambdify((x, E1, E2, F1, F2), fs)"
   ]
  },
  {
   "cell_type": "code",
   "execution_count": 78,
   "id": "34f0048f",
   "metadata": {},
   "outputs": [],
   "source": [
    "# Get parameters and actual numerical values\n",
    "E1 = E2 = 0.2\n",
    "F1 = 1.3\n",
    "F2 = 1.4\n",
    "x = np.linspace(0,5,1000)\n",
    "f = fn(x, E1, E2, F1, F2)\n",
    "F = Fn(x, E1, E2, F1, F2)"
   ]
  },
  {
   "cell_type": "code",
   "execution_count": 79,
   "id": "0b93be74",
   "metadata": {},
   "outputs": [
    {
     "data": {
      "image/png": "[encoded data removed]",
      "text/plain": [
       "<Figure size 800x300 with 1 Axes>"
      ]
     },
     "metadata": {},
     "output_type": "display_data"
    }
   ],
   "source": [
    "# Plot\n",
    "plt.figure(figsize=(8,3))\n",
    "plt.plot(x, f, label=r'f(x)')\n",
    "plt.plot(x,F, label=r'$F(x)$')\n",
    "plt.legend()\n",
    "plt.xlabel('x', fontsize=14)\n",
    "plt.legend()\n",
    "plt.show()"
   ]
  },
  {
   "cell_type": "code",
   "execution_count": 80,
   "id": "64695d0c",
   "metadata": {},
   "outputs": [],
   "source": [
    "# F(x) is always increasing, but inverting the formula is difficult.\n",
    "# How can we approximate F⁻¹(x) given the information we have?\n",
    "\n",
    "F_inv_Us = x[np.searchsorted(F[:-1], Us)]"
   ]
  },
  {
   "cell_type": "code",
   "execution_count": 81,
   "id": "50dd123f",
   "metadata": {},
   "outputs": [
    {
     "data": {
      "image/png": "[encoded data removed]",
      "text/plain": [
       "<Figure size 800x300 with 1 Axes>"
      ]
     },
     "metadata": {},
     "output_type": "display_data"
    }
   ],
   "source": [
    "## Plot\n",
    "plt.figure(figsize=(8,3))\n",
    "plt.plot(x, f, label=r'$f(x)$')\n",
    "plt.hist(F_inv_Us, histtype='step', color='red', density='norm', bins=100, label='$F^{-1}(u)$')\n",
    "plt.legend()\n",
    "plt.xlabel('$x$', fontsize=14)\n",
    "plt.legend()\n",
    "plt.xlim(0,2)\n",
    "plt.show()"
   ]
  },
  {
   "cell_type": "markdown",
   "id": "de2fb78a",
   "metadata": {},
   "source": [
    "## 1.3 Built In Random Variables"
   ]
  },
  {
   "cell_type": "code",
   "execution_count": 82,
   "id": "05634b1a",
   "metadata": {},
   "outputs": [],
   "source": [
    "r = np.random.rayleigh(size=1000)"
   ]
  },
  {
   "cell_type": "code",
   "execution_count": 83,
   "id": "a745a0d0",
   "metadata": {},
   "outputs": [
    {
     "data": {
      "image/png": "[encoded data removed]",
      "text/plain": [
       "<Figure size 640x480 with 1 Axes>"
      ]
     },
     "metadata": {},
     "output_type": "display_data"
    }
   ],
   "source": [
    "# Plot\n",
    "plt.hist(r, bins=100)\n",
    "plt.show()"
   ]
  },
  {
   "cell_type": "code",
   "execution_count": 84,
   "id": "3a1d331a",
   "metadata": {},
   "outputs": [
    {
     "name": "stdout",
     "output_type": "stream",
     "text": [
      "\u001b[1;31mType:\u001b[0m        module\n",
      "\u001b[1;31mString form:\u001b[0m <module 'numpy.random' from 'c:\\\\Users\\\\shiva\\\\OneDrive\\\\Desktop\\\\Data Science Bootcamp\\\\Projects\\\\Monte Carlo Simulation\\\\venv\\\\Lib\\\\site-packages\\\\numpy\\\\random\\\\__init__.py'>\n",
      "\u001b[1;31mFile:\u001b[0m        c:\\users\\shiva\\onedrive\\desktop\\data science bootcamp\\projects\\monte carlo simulation\\venv\\lib\\site-packages\\numpy\\random\\__init__.py\n",
      "\u001b[1;31mDocstring:\u001b[0m  \n",
      "========================\n",
      "Random Number Generation\n",
      "========================\n",
      "\n",
      "Use ``default_rng()`` to create a `Generator` and call its methods.\n",
      "\n",
      "=============== =========================================================\n",
      "Generator\n",
      "--------------- ---------------------------------------------------------\n",
      "Generator       Class implementing all of the random number distributions\n",
      "default_rng     Default constructor for ``Generator``\n",
      "=============== =========================================================\n",
      "\n",
      "============================================= ===\n",
      "BitGenerator Streams that work with Generator\n",
      "--------------------------------------------- ---\n",
      "MT19937\n",
      "PCG64\n",
      "PCG64DXSM\n",
      "Philox\n",
      "SFC64\n",
      "============================================= ===\n",
      "\n",
      "============================================= ===\n",
      "Getting entropy to initialize a BitGenerator\n",
      "--------------------------------------------- ---\n",
      "SeedSequence\n",
      "============================================= ===\n",
      "\n",
      "\n",
      "Legacy\n",
      "------\n",
      "\n",
      "For backwards compatibility with previous versions of numpy before 1.17, the\n",
      "various aliases to the global `RandomState` methods are left alone and do not\n",
      "use the new `Generator` API.\n",
      "\n",
      "==================== =========================================================\n",
      "Utility functions\n",
      "-------------------- ---------------------------------------------------------\n",
      "random               Uniformly distributed floats over ``[0, 1)``\n",
      "bytes                Uniformly distributed random bytes.\n",
      "permutation          Randomly permute a sequence / generate a random sequence.\n",
      "shuffle              Randomly permute a sequence in place.\n",
      "choice               Random sample from 1-D array.\n",
      "==================== =========================================================\n",
      "\n",
      "==================== =========================================================\n",
      "Compatibility\n",
      "functions - removed\n",
      "in the new API\n",
      "-------------------- ---------------------------------------------------------\n",
      "rand                 Uniformly distributed values.\n",
      "randn                Normally distributed values.\n",
      "ranf                 Uniformly distributed floating point numbers.\n",
      "random_integers      Uniformly distributed integers in a given range.\n",
      "                     (deprecated, use ``integers(..., closed=True)`` instead)\n",
      "random_sample        Alias for `random_sample`\n",
      "randint              Uniformly distributed integers in a given range\n",
      "seed                 Seed the legacy random number generator.\n",
      "==================== =========================================================\n",
      "\n",
      "==================== =========================================================\n",
      "Univariate\n",
      "distributions\n",
      "-------------------- ---------------------------------------------------------\n",
      "beta                 Beta distribution over ``[0, 1]``.\n",
      "binomial             Binomial distribution.\n",
      "chisquare            :math:`\\chi^2` distribution.\n",
      "exponential          Exponential distribution.\n",
      "f                    F (Fisher-Snedecor) distribution.\n",
      "gamma                Gamma distribution.\n",
      "geometric            Geometric distribution.\n",
      "gumbel               Gumbel distribution.\n",
      "hypergeometric       Hypergeometric distribution.\n",
      "laplace              Laplace distribution.\n",
      "logistic             Logistic distribution.\n",
      "lognormal            Log-normal distribution.\n",
      "logseries            Logarithmic series distribution.\n",
      "negative_binomial    Negative binomial distribution.\n",
      "noncentral_chisquare Non-central chi-square distribution.\n",
      "noncentral_f         Non-central F distribution.\n",
      "normal               Normal / Gaussian distribution.\n",
      "pareto               Pareto distribution.\n",
      "poisson              Poisson distribution.\n",
      "power                Power distribution.\n",
      "rayleigh             Rayleigh distribution.\n",
      "triangular           Triangular distribution.\n",
      "uniform              Uniform distribution.\n",
      "vonmises             Von Mises circular distribution.\n",
      "wald                 Wald (inverse Gaussian) distribution.\n",
      "weibull              Weibull distribution.\n",
      "zipf                 Zipf's distribution over ranked data.\n",
      "==================== =========================================================\n",
      "\n",
      "==================== ==========================================================\n",
      "Multivariate\n",
      "distributions\n",
      "-------------------- ----------------------------------------------------------\n",
      "dirichlet            Multivariate generalization of Beta distribution.\n",
      "multinomial          Multivariate generalization of the binomial distribution.\n",
      "multivariate_normal  Multivariate generalization of the normal distribution.\n",
      "==================== ==========================================================\n",
      "\n",
      "==================== =========================================================\n",
      "Standard\n",
      "distributions\n",
      "-------------------- ---------------------------------------------------------\n",
      "standard_cauchy      Standard Cauchy-Lorentz distribution.\n",
      "standard_exponential Standard exponential distribution.\n",
      "standard_gamma       Standard Gamma distribution.\n",
      "standard_normal      Standard normal distribution.\n",
      "standard_t           Standard Student's t-distribution.\n",
      "==================== =========================================================\n",
      "\n",
      "==================== =========================================================\n",
      "Internal functions\n",
      "-------------------- ---------------------------------------------------------\n",
      "get_state            Get tuple representing internal state of generator.\n",
      "set_state            Set state of generator.\n",
      "==================== ========================================================="
     ]
    }
   ],
   "source": [
    "## Many other function too:\n",
    "\n",
    "np.random?"
   ]
  },
  {
   "cell_type": "markdown",
   "id": "a6e74081",
   "metadata": {},
   "source": [
    "# 2: Use These Random Variables To Conduct an Experiment"
   ]
  },
  {
   "cell_type": "markdown",
   "id": "a00050d7",
   "metadata": {},
   "source": [
    "* The amount of particles that enter a detector in 10s is a random variable $X$ with distribution \n",
    "\n",
    "$$f(x) = \\frac{e^{-\\lambda} \\lambda^x}{x!}$$\n",
    "\n",
    "* The energy deposited by each particle is a random variable $E$ with distribution\n",
    "\n",
    "$$g(x) = F_1e^{-\\sqrt{x/E_1}} + F_2e^{-\\sqrt{x/E_2}}$$"
   ]
  },
  {
   "cell_type": "markdown",
   "id": "987724a4",
   "metadata": {},
   "source": [
    "The parameters are \n",
    "* $\\lambda = 4$\n",
    "* $F_1=1.3$ GeV$^{-1}$\n",
    "* $F_2=1.4$ GeV$^{-1}$\n",
    "* $E_1=0.1$ GeV\n",
    "* $E_2=0.2$ GeV"
   ]
  },
  {
   "cell_type": "code",
   "execution_count": 85,
   "id": "821cd1f6",
   "metadata": {},
   "outputs": [],
   "source": [
    "## Simulate the energy in the detector over 100000 experiments of 10 seconds each. Plot the distribution\n",
    "\n",
    "N = 100000\n",
    "\n",
    "# Part 1 \n",
    "X = np.random.poisson(lam=4, size=N)\n",
    "\n",
    "# Part 2\n",
    "x = np.linspace(0,5,1000)\n",
    "F = Fn(x, E1, E2, F1, F2)\n",
    "Us = np.random.rand(X.sum())\n",
    "E = x[np.searchsorted(F[:-1], Us)]"
   ]
  },
  {
   "cell_type": "code",
   "execution_count": 86,
   "id": "6c31c5c4",
   "metadata": {},
   "outputs": [
    {
     "data": {
      "text/plain": [
       "array([ 0,  3,  7,  9, 11, 15, 17, 19, 20, 20])"
      ]
     },
     "execution_count": 86,
     "metadata": {},
     "output_type": "execute_result"
    }
   ],
   "source": [
    "## Get a net sum of how many particles were detected total after $n$ experiments:\n",
    "idx = np.insert(X.cumsum(), 0, 0)[:-1]\n",
    "idx[0:10]"
   ]
  },
  {
   "cell_type": "code",
   "execution_count": 87,
   "id": "9909ca1a",
   "metadata": {},
   "outputs": [
    {
     "data": {
      "text/plain": [
       "array([0.1001001 , 1.84184184, 2.99299299, 0.43543544, 1.54154154,\n",
       "       0.40540541, 0.06006006, 0.6006006 , 2.48248248, 0.05505506])"
      ]
     },
     "execution_count": 87,
     "metadata": {},
     "output_type": "execute_result"
    }
   ],
   "source": [
    "## Use these values to sum energies for each experiment.\n",
    "E[0:10]"
   ]
  },
  {
   "cell_type": "code",
   "execution_count": 88,
   "id": "30078f24",
   "metadata": {},
   "outputs": [],
   "source": [
    "E_10s = np.add.reduceat(E, idx)"
   ]
  },
  {
   "cell_type": "code",
   "execution_count": 89,
   "id": "19d88441",
   "metadata": {},
   "outputs": [
    {
     "data": {
      "text/plain": [
       "array([4.93493493, 2.44244244, 3.08308308, ..., 2.04704705, 3.04804805,\n",
       "       0.01501502], shape=(100000,))"
      ]
     },
     "execution_count": 89,
     "metadata": {},
     "output_type": "execute_result"
    }
   ],
   "source": [
    "E_10s"
   ]
  },
  {
   "cell_type": "code",
   "execution_count": 90,
   "id": "80ea8763",
   "metadata": {},
   "outputs": [
    {
     "data": {
      "image/png": "[encoded data removed]",
      "text/plain": [
       "<Figure size 500x300 with 1 Axes>"
      ]
     },
     "metadata": {},
     "output_type": "display_data"
    }
   ],
   "source": [
    "## Plot\n",
    "plt.figure(figsize=(5,3))\n",
    "plt.hist(E_10s, bins=100)\n",
    "plt.xlabel('Energy [GeV]', fontsize=10)\n",
    "plt.ylabel('Number of Occurrences')\n",
    "plt.show()"
   ]
  },
  {
   "cell_type": "markdown",
   "id": "39836201",
   "metadata": {},
   "source": [
    "This distribution is very interesting, and probably doesn't have a name, but it helps us with our experimental planning."
   ]
  },
  {
   "cell_type": "code",
   "execution_count": 91,
   "id": "506ea0f2",
   "metadata": {},
   "outputs": [
    {
     "data": {
      "text/plain": [
       "np.float64(0.05135)"
      ]
     },
     "execution_count": 91,
     "metadata": {},
     "output_type": "execute_result"
    }
   ],
   "source": [
    "np.sum(E_10s>7.5)/len(E_10s)"
   ]
  },
  {
   "cell_type": "markdown",
   "id": "8db1c597",
   "metadata": {},
   "source": [
    "So 5% of the time we expect more than 7.5GeV of energy to be deposited in the detector within 10s. This mght be useful when planning for resources, such as requirements for detecting this much energy!"
   ]
  }
 ],
 "metadata": {
  "kernelspec": {
   "display_name": "Python 3",
   "language": "python",
   "name": "python3"
  },
  "language_info": {
   "codemirror_mode": {
    "name": "ipython",
    "version": 3
   },
   "file_extension": ".py",
   "mimetype": "text/x-python",
   "name": "python",
   "nbconvert_exporter": "python",
   "pygments_lexer": "ipython3",
   "version": "3.12.0"
  }
 },
 "nbformat": 4,
 "nbformat_minor": 5
}
